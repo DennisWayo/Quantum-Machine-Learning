{
 "cells": [
  {
   "cell_type": "code",
   "execution_count": 1,
   "id": "5c6c43b3-a1d4-42f3-958e-b6ea9d2e8576",
   "metadata": {},
   "outputs": [],
   "source": [
    "import numpy as np\n",
    "import pandas as pd\n",
    "from qiskit import Aer, QuantumCircuit, transpile, execute\n",
    "from sklearn.model_selection import train_test_split\n",
    "from sklearn.preprocessing import StandardScaler\n",
    "import matplotlib.pyplot as plt"
   ]
  },
  {
   "cell_type": "code",
   "execution_count": 2,
   "id": "3787d498-dd41-4626-90c8-3006bcc2bc8a",
   "metadata": {
    "scrolled": true
   },
   "outputs": [
    {
     "name": "stdout",
     "output_type": "stream",
     "text": [
      "<bound method NDFrame.head of       Photon Energy  Absorption\n",
      "0              0.70        7.24\n",
      "1              0.71        7.24\n",
      "2              0.71        7.25\n",
      "3              0.71        7.25\n",
      "4              0.71        7.26\n",
      "...             ...         ...\n",
      "1995           5.69       -9.52\n",
      "1996           5.69       -9.48\n",
      "1997           5.70       -9.44\n",
      "1998           5.70       -9.39\n",
      "1999           5.70       -9.35\n",
      "\n",
      "[2000 rows x 2 columns]>\n",
      "4000\n"
     ]
    }
   ],
   "source": [
    "import pandas as pd\n",
    "\n",
    "# Correct path to the uploaded file\n",
    "file_path = 'epsx1_real.csv'  # Use the actual uploaded file ID path\n",
    "\n",
    "# Read the Excel file\n",
    "data = pd.read_csv(file_path)\n",
    "\n",
    "# Display the first few rows to confirm successful loading\n",
    "print(data.head)\n",
    "print(data.size)"
   ]
  },
  {
   "cell_type": "code",
   "execution_count": 3,
   "id": "e122f0d2-88eb-4182-85d8-21346fc32a9c",
   "metadata": {},
   "outputs": [],
   "source": [
    "# Assuming the last column is the target variable\n",
    "X = data.iloc[:, :-1].values  # Features\n",
    "y = data.iloc[:, -1].values   # Labels"
   ]
  },
  {
   "cell_type": "code",
   "execution_count": 4,
   "id": "876c04ea-b62e-4cd3-89c3-c3890eeb3250",
   "metadata": {},
   "outputs": [],
   "source": [
    "# Split dataset into training and test sets\n",
    "X_train, X_test, y_train, y_test = train_test_split(X, y, test_size=0.2, random_state=42)"
   ]
  },
  {
   "cell_type": "code",
   "execution_count": 5,
   "id": "a80c5e2f-2326-40d3-b55e-110091ffe8cc",
   "metadata": {},
   "outputs": [],
   "source": [
    "# Normalize features\n",
    "scaler = StandardScaler()\n",
    "X_train = scaler.fit_transform(X_train)\n",
    "X_test = scaler.transform(X_test)"
   ]
  },
  {
   "cell_type": "code",
   "execution_count": 6,
   "id": "8696e499-d841-406f-8baf-3c965271197b",
   "metadata": {},
   "outputs": [],
   "source": [
    "# Define the QNN circuit\n",
    "def create_qnn_circuit(params):\n",
    "    circuit = QuantumCircuit(2)\n",
    "    circuit.h([0, 1])  # Initialize in superposition\n",
    "    circuit.rx(params[0], 0)  # Apply RX rotation\n",
    "    circuit.ry(params[1], 1)  # Apply RY rotation\n",
    "    circuit.cx(0, 1)  # CNOT gate\n",
    "    return circuit"
   ]
  },
  {
   "cell_type": "code",
   "execution_count": 7,
   "id": "c7f1b976-8df4-4e49-b120-aa01d24a1337",
   "metadata": {},
   "outputs": [],
   "source": [
    "# Execute the circuit and get the output state\n",
    "def execute_circuit(circuit):\n",
    "    backend = Aer.get_backend('statevector_simulator')\n",
    "    transpiled_circuit = transpile(circuit, backend)\n",
    "    job = execute(transpiled_circuit, backend)\n",
    "    result = job.result()\n",
    "    statevector = result.get_statevector()\n",
    "    return statevector"
   ]
  },
  {
   "cell_type": "code",
   "execution_count": 8,
   "id": "6799d8f2-8807-4d59-9545-688bb5745909",
   "metadata": {},
   "outputs": [],
   "source": [
    "# Basic gradient descent optimizer for QNN\n",
    "def train_qnn(X_train, y_train, epochs=100):\n",
    "    params = np.random.rand(2)  # Initialize parameters\n",
    "    learning_rate = 0.01\n",
    "\n",
    "    for epoch in range(epochs):\n",
    "        for i in range(len(X_train)):\n",
    "            circuit = create_qnn_circuit(params)\n",
    "            statevector = execute_circuit(circuit)\n",
    "\n",
    "            # Get the output and compute the loss (mean squared error)\n",
    "            output = np.abs(statevector[1]) ** 2  # Probability of the second basis state\n",
    "            target = y_train[i]  # True label\n",
    "            loss = (output - target) ** 2\n",
    "\n",
    "            # Gradient descent update\n",
    "            params -= learning_rate * (output - target) * np.array([np.cos(params[0]), np.sin(params[1])])\n",
    "\n",
    "        if epoch % 10 == 0:\n",
    "            print(f'Gradient Descent Epoch {epoch}, Loss: {loss:.4f}')\n",
    "\n",
    "    return params"
   ]
  },
  {
   "cell_type": "code",
   "execution_count": 9,
   "id": "25a3be3d-8984-43a5-9929-200881378a76",
   "metadata": {},
   "outputs": [],
   "source": [
    "# Shukla-Vedula optimizer for QNN\n",
    "def shukla_vedula_optimization(X_train, y_train, epochs=100):\n",
    "    params = np.random.rand(2)  # Initialize parameters\n",
    "    learning_rate = 0.01\n",
    "\n",
    "    for epoch in range(epochs):\n",
    "        for i in range(len(X_train)):\n",
    "            circuit = create_qnn_circuit(params)\n",
    "            statevector = execute_circuit(circuit)\n",
    "\n",
    "            # Get the output and compute the loss (mean squared error)\n",
    "            output = np.abs(statevector[1]) ** 2  # Probability of the second basis state\n",
    "            target = y_train[i]  # True label\n",
    "            loss = (output - target) ** 2\n",
    "\n",
    "            # Shukla-Vedula Update: Gradient-free adjustment\n",
    "            params += learning_rate * (target - output) * np.array([np.sin(params[0]), np.cos(params[1])])\n",
    "\n",
    "        if epoch % 10 == 0:\n",
    "            print(f'Shukla-Vedula Epoch {epoch}, Loss: {loss:.4f}')\n",
    "\n",
    "    return params"
   ]
  },
  {
   "cell_type": "code",
   "execution_count": 10,
   "id": "fbbe1ea0-49f7-49f7-934d-fe6029436d6f",
   "metadata": {},
   "outputs": [
    {
     "name": "stdout",
     "output_type": "stream",
     "text": [
      "Training with Gradient Descent Optimizer:\n",
      "Gradient Descent Epoch 0, Loss: 642.1156\n",
      "Gradient Descent Epoch 10, Loss: 642.1156\n",
      "Gradient Descent Epoch 20, Loss: 642.1156\n",
      "Gradient Descent Epoch 30, Loss: 642.1156\n",
      "Gradient Descent Epoch 40, Loss: 642.1156\n",
      "Gradient Descent Epoch 50, Loss: 642.1156\n",
      "Gradient Descent Epoch 60, Loss: 642.1156\n",
      "Gradient Descent Epoch 70, Loss: 642.1156\n",
      "Gradient Descent Epoch 80, Loss: 642.1156\n",
      "Gradient Descent Epoch 90, Loss: 642.1156\n"
     ]
    }
   ],
   "source": [
    "# Train and test the QNN with Gradient Descent\n",
    "print(\"Training with Gradient Descent Optimizer:\")\n",
    "gd_params = train_qnn(X_train, y_train)"
   ]
  },
  {
   "cell_type": "code",
   "execution_count": 11,
   "id": "085f2d66-b6b0-4fbf-aca4-1293f9d2f476",
   "metadata": {},
   "outputs": [
    {
     "name": "stdout",
     "output_type": "stream",
     "text": [
      "\n",
      "Training with Shukla-Vedula Optimizer:\n",
      "Shukla-Vedula Epoch 0, Loss: 629.5081\n",
      "Shukla-Vedula Epoch 10, Loss: 629.5081\n",
      "Shukla-Vedula Epoch 20, Loss: 629.5081\n",
      "Shukla-Vedula Epoch 30, Loss: 629.5081\n",
      "Shukla-Vedula Epoch 40, Loss: 629.5081\n",
      "Shukla-Vedula Epoch 50, Loss: 629.5081\n",
      "Shukla-Vedula Epoch 60, Loss: 629.5081\n",
      "Shukla-Vedula Epoch 70, Loss: 629.5081\n",
      "Shukla-Vedula Epoch 80, Loss: 629.5081\n",
      "Shukla-Vedula Epoch 90, Loss: 629.5081\n"
     ]
    }
   ],
   "source": [
    "print(\"\\nTraining with Shukla-Vedula Optimizer:\")\n",
    "sv_params = shukla_vedula_optimization(X_train, y_train)"
   ]
  },
  {
   "cell_type": "code",
   "execution_count": 15,
   "id": "3d6ae89c-c682-4112-9147-917c6aad2a4e",
   "metadata": {},
   "outputs": [],
   "source": [
    "# Test the QNN on the test set\n",
    "def test_qnn(X_test, y_test, trained_params):\n",
    "    correct_predictions = 0\n",
    "\n",
    "    for i in range(len(X_test)):\n",
    "        circuit = create_qnn_circuit(trained_params)\n",
    "        statevector = execute_circuit(circuit)\n",
    "        output = np.abs(statevector[1]) ** 2  # Probability of the second basis state\n",
    "        prediction = int(output > 0.5)  # Threshold for binary classification\n",
    "\n",
    "        if prediction == y_test[i]:\n",
    "            correct_predictions += 1\n",
    "\n",
    "    accuracy = correct_predictions / len(y_test)\n",
    "    print(f'Accuracy: {accuracy:.2f}')"
   ]
  },
  {
   "cell_type": "code",
   "execution_count": 16,
   "id": "abb541ba-989c-44bc-b910-baac8fc93132",
   "metadata": {},
   "outputs": [
    {
     "name": "stdout",
     "output_type": "stream",
     "text": [
      "\n",
      "Testing Gradient Descent QNN:\n",
      "Accuracy: 0.00\n",
      "\n",
      "Testing Shukla-Vedula QNN:\n",
      "Accuracy: 0.00\n"
     ]
    }
   ],
   "source": [
    "# Test the QNNs\n",
    "print(\"\\nTesting Gradient Descent QNN:\")\n",
    "test_qnn(X_test, y_test, gd_params)\n",
    "\n",
    "print(\"\\nTesting Shukla-Vedula QNN:\")\n",
    "test_qnn(X_test, y_test, sv_params)"
   ]
  },
  {
   "cell_type": "code",
   "execution_count": 19,
   "id": "9d1330ac-89f3-4522-bb34-d21844c61e7e",
   "metadata": {},
   "outputs": [],
   "source": [
    "# Plotting the dataset (optional, for 2D features only)\n",
    "if X.shape[1] == 2:\n",
    "    plt.scatter(X[:, 0], X[:, 1], c=y, cmap='coolwarm', edgecolors='k')\n",
    "    plt.title('Data Points')\n",
    "    plt.xlabel('Feature 1')\n",
    "    plt.ylabel('Feature 2')\n",
    "    plt.show()"
   ]
  }
 ],
 "metadata": {
  "kernelspec": {
   "display_name": "Python 3 [Default]",
   "language": "python",
   "name": "python3"
  },
  "language_info": {
   "codemirror_mode": {
    "name": "ipython",
    "version": 3
   },
   "file_extension": ".py",
   "mimetype": "text/x-python",
   "name": "python",
   "nbconvert_exporter": "python",
   "pygments_lexer": "ipython3",
   "version": "3.11.9"
  }
 },
 "nbformat": 4,
 "nbformat_minor": 5
}
